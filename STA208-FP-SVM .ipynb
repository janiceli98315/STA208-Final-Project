{
 "cells": [
  {
   "cell_type": "markdown",
   "id": "58d022b2",
   "metadata": {},
   "source": [
    "## Data Preprocessing"
   ]
  },
  {
   "cell_type": "code",
   "execution_count": 1,
   "id": "f00376b8",
   "metadata": {},
   "outputs": [],
   "source": [
    "import pandas as pd\n",
    "import numpy as np\n",
    "import matplotlib.pyplot as plt\n",
    "\n",
    "# Load training and testing data\n",
    "train_data = pd.read_csv('/Users/janiceli/Desktop/fashion-mnist_train.csv')\n",
    "test_data = pd.read_csv('/Users/janiceli/Desktop/fashion-mnist_test.csv')\n",
    "\n",
    "# Drop duplicated data\n",
    "train_data = train_data.drop_duplicates().reset_index(drop=True)\n",
    "test_data = test_data.drop_duplicates().reset_index(drop=True)\n",
    "\n",
    "# Separate image and label data\n",
    "# Normalize image data by scaling these values to a [0,1]\n",
    "train_images = train_data/255.0\n",
    "train_labels = train_data.iloc[:, 0]\n",
    "\n",
    "test_images = test_data/255.0\n",
    "test_labels = test_data.iloc[:, 0]\n",
    "\n",
    "#EDA\n",
    "# Map each image to a single label\n",
    "class_names = ['T-shirt/top', 'Trouser', 'Pullover', 'Dress', 'Coat',\n",
    "               'Sandal', 'Shirt', 'Sneaker', 'Bag', 'Ankle boot']\n",
    "\n",
    "# Examine class distributions of training data\n",
    "train_class_counts = np.bincount(train_labels)\n",
    "train_class_names = [class_names[i] for i in range(len(train_class_counts))]\n",
    "train_df = pd.DataFrame(data=train_class_counts, index=train_class_names, columns=['Train Count'])\n",
    "\n",
    "# Examine class distributions of testing data\n",
    "test_class_counts = np.bincount(test_labels)\n",
    "test_class_names = [class_names[i] for i in range(len(test_class_counts))]\n",
    "test_df = pd.DataFrame(data=test_class_counts, index=test_class_names, columns=['Test Count'])\n",
    "\n",
    "# Concatenate the two DataFrames\n",
    "pd.concat([train_df, test_df], axis=1).T\n",
    "\n",
    "# Flatten the pixel values\n",
    "train_pixel_values = train_data.drop(columns=['label']).values.flatten()\n",
    "test_pixel_values = test_data.drop(columns=['label']).values.flatten()\n",
    "\n",
    "# Use PCA to conduct dimension reduction\n",
    "from sklearn.decomposition import PCA\n",
    "\n",
    "# Concatenate the training and test data\n",
    "combined_images = np.concatenate((train_images, test_images), axis=0)\n",
    "\n",
    "# Apply PCA on the combined data to do dimension reduction\n",
    "pca = PCA(n_components=188, random_state=2023)\n",
    "combined_images_pca = pca.fit_transform(combined_images)\n",
    "\n",
    "# Split the transformed data back into training and test sets\n",
    "train_images = pd.DataFrame(combined_images_pca[:len(train_images)])\n",
    "test_images = pd.DataFrame(combined_images_pca[len(train_images):])"
   ]
  },
  {
   "cell_type": "code",
   "execution_count": null,
   "id": "ff5e9b1d",
   "metadata": {},
   "outputs": [],
   "source": [
    "train_images.shape, train_labels.shape, test_images.shape, test_labels.shape"
   ]
  },
  {
   "cell_type": "markdown",
   "id": "5f3f75c6",
   "metadata": {},
   "source": [
    "## Fiting the SVM model"
   ]
  },
  {
   "cell_type": "code",
   "execution_count": 2,
   "id": "e5a567fd",
   "metadata": {},
   "outputs": [],
   "source": [
    "#Load the necessary packages\n",
    "from sklearn.svm import SVC\n",
    "from sklearn.utils import shuffle\n",
    "from sklearn.model_selection import cross_val_score\n",
    "from sklearn.model_selection import KFold\n",
    "import time\n",
    "from sklearn import metrics"
   ]
  },
  {
   "cell_type": "code",
   "execution_count": 8,
   "id": "b2414020",
   "metadata": {},
   "outputs": [
    {
     "name": "stdout",
     "output_type": "stream",
     "text": [
      "SVC Time: 89.54104495048523\n"
     ]
    }
   ],
   "source": [
    "#Calculate the runtime using the optimal regularization parameter\n",
    "start = time.time()\n",
    "\n",
    "SVM = SVC(kernel=\"rbf\", C = 50.0, gamma=\"auto\")\n",
    "SVM.fit(train_images, train_labels)\n",
    "\n",
    "end = time.time()\n",
    "svm_time = end-start\n",
    "\n",
    "print(\"SVC Time:\", svm_time)"
   ]
  },
  {
   "cell_type": "code",
   "execution_count": 9,
   "id": "1d8b33a2",
   "metadata": {},
   "outputs": [
    {
     "name": "stdout",
     "output_type": "stream",
     "text": [
      "Train Accuracy score: 0.8867021365311807\n",
      "Test Accuracy score: 0.8806880688068807\n"
     ]
    }
   ],
   "source": [
    "# Tune the parameter C with different values\n",
    "#C = 1\n",
    "SVM = SVC(kernel=\"rbf\", C = 1.0, gamma=\"auto\")\n",
    "SVM.fit(train_images, train_labels)\n",
    "\n",
    "y_train_svc = SVM.predict(train_images)\n",
    "y_pred_svc = SVM.predict(test_images)\n",
    "svc_train_accuracy = metrics.accuracy_score(train_labels,y_train_svc)\n",
    "svc_test_accuracy = metrics.accuracy_score(test_labels, y_pred_svc)\n",
    "\n",
    "print(\"Train Accuracy score: {}\".format(svc_train_accuracy))\n",
    "print(\"Test Accuracy score: {}\".format(svc_test_accuracy))"
   ]
  },
  {
   "cell_type": "code",
   "execution_count": 19,
   "id": "56a77f5d",
   "metadata": {},
   "outputs": [
    {
     "name": "stdout",
     "output_type": "stream",
     "text": [
      "Train Accuracy score: 0.9257634638157346\n",
      "Test Accuracy score: 0.9005900590059006\n"
     ]
    }
   ],
   "source": [
    "#C = 10\n",
    "SVM = SVC(kernel=\"rbf\", C = 10.0, gamma=\"auto\")\n",
    "\n",
    "# Fit SVClassifier\n",
    "SVM.fit(train_images, train_labels)\n",
    "\n",
    "y_train_svc = SVM.predict(train_images)\n",
    "y_pred_svc = SVM.predict(test_images)\n",
    "svc_train_accuracy = metrics.accuracy_score(train_labels,y_train_svc)\n",
    "svc_test_accuracy = metrics.accuracy_score(test_labels, y_pred_svc)\n",
    "\n",
    "print(\"Train Accuracy score: {}\".format(svc_train_accuracy))\n",
    "print(\"Test Accuracy score: {}\".format(svc_test_accuracy))"
   ]
  },
  {
   "cell_type": "code",
   "execution_count": 20,
   "id": "f10cbfc2",
   "metadata": {},
   "outputs": [
    {
     "name": "stdout",
     "output_type": "stream",
     "text": [
      "Train Accuracy score: 0.9403906132728456\n",
      "Test Accuracy score: 0.905990599059906\n"
     ]
    }
   ],
   "source": [
    "#C = 20\n",
    "\n",
    "SVM = SVC(kernel=\"rbf\", C = 20.0, gamma=\"auto\")\n",
    "\n",
    "# Fit SVClassifier\n",
    "SVM.fit(train_images, train_labels)\n",
    "\n",
    "y_train_svc = SVM.predict(train_images)\n",
    "y_pred_svc = SVM.predict(test_images)\n",
    "svc_train_accuracy = metrics.accuracy_score(train_labels,y_train_svc)\n",
    "svc_test_accuracy = metrics.accuracy_score(test_labels, y_pred_svc)\n",
    "\n",
    "print(\"Train Accuracy score: {}\".format(svc_train_accuracy))\n",
    "print(\"Test Accuracy score: {}\".format(svc_test_accuracy))"
   ]
  },
  {
   "cell_type": "code",
   "execution_count": 21,
   "id": "f0adefd6",
   "metadata": {},
   "outputs": [
    {
     "name": "stdout",
     "output_type": "stream",
     "text": [
      "Train Accuracy score: 0.9490968527444669\n",
      "Test Accuracy score: 0.906990699069907\n"
     ]
    }
   ],
   "source": [
    "#C = 30\n",
    "\n",
    "SVM = SVC(kernel=\"rbf\", C = 30.0, gamma=\"auto\")\n",
    "\n",
    "# Fit SVClassifier\n",
    "SVM.fit(train_images, train_labels)\n",
    "\n",
    "y_train_svc = SVM.predict(train_images)\n",
    "y_pred_svc = SVM.predict(test_images)\n",
    "svc_train_accuracy = metrics.accuracy_score(train_labels,y_train_svc)\n",
    "svc_test_accuracy = metrics.accuracy_score(test_labels, y_pred_svc)\n",
    "\n",
    "print(\"Train Accuracy score: {}\".format(svc_train_accuracy))\n",
    "print(\"Test Accuracy score: {}\".format(svc_test_accuracy))"
   ]
  },
  {
   "cell_type": "code",
   "execution_count": 4,
   "id": "10b4ec9a",
   "metadata": {},
   "outputs": [
    {
     "name": "stdout",
     "output_type": "stream",
     "text": [
      "Train Accuracy score: 0.9598378838167353\n",
      "Test Accuracy score: 0.9075907590759076\n"
     ]
    }
   ],
   "source": [
    "#C = 50\n",
    "\n",
    "SVM = SVC(kernel=\"rbf\", C = 50.0, gamma=\"auto\")\n",
    "\n",
    "# Fit SVClassifier\n",
    "SVM.fit(train_images, train_labels)\n",
    "\n",
    "y_train_svc = SVM.predict(train_images)\n",
    "y_pred_svc = SVM.predict(test_images)\n",
    "svc_train_accuracy = metrics.accuracy_score(train_labels,y_train_svc)\n",
    "svc_test_accuracy = metrics.accuracy_score(test_labels, y_pred_svc)\n",
    "\n",
    "print(\"Train Accuracy score: {}\".format(svc_train_accuracy))\n",
    "print(\"Test Accuracy score: {}\".format(svc_test_accuracy))"
   ]
  },
  {
   "cell_type": "code",
   "execution_count": 22,
   "id": "194706f7",
   "metadata": {},
   "outputs": [
    {
     "name": "stdout",
     "output_type": "stream",
     "text": [
      "Train Accuracy score: 0.9735143519522325\n",
      "Test Accuracy score: 0.9071907190719072\n"
     ]
    }
   ],
   "source": [
    "#C = 100\n",
    "\n",
    "SVM = SVC(kernel=\"rbf\", C = 100.0, gamma=\"auto\")\n",
    "\n",
    "# Fit SVClassifier\n",
    "SVM.fit(train_images, train_labels)\n",
    "\n",
    "y_train_svc = SVM.predict(train_images)\n",
    "y_pred_svc = SVM.predict(test_images)\n",
    "svc_train_accuracy = metrics.accuracy_score(train_labels,y_train_svc)\n",
    "svc_test_accuracy = metrics.accuracy_score(test_labels, y_pred_svc)\n",
    "\n",
    "print(\"Train Accuracy score: {}\".format(svc_train_accuracy))\n",
    "print(\"Test Accuracy score: {}\".format(svc_test_accuracy))"
   ]
  },
  {
   "cell_type": "code",
   "execution_count": 7,
   "id": "a06a838c",
   "metadata": {},
   "outputs": [
    {
     "data": {
      "image/png": "[encoded data removed]",
      "text/plain": [
       "<Figure size 576x576 with 1 Axes>"
      ]
     },
     "metadata": {
      "needs_background": "light"
     },
     "output_type": "display_data"
    }
   ],
   "source": [
    "#Define C values\n",
    "Cval = [1, 10, 20, 30, 50, 100]\n",
    "\n",
    "plt.figure(figsize=(8,8))\n",
    "#Generate ROC curve based on the loop over different C values.\n",
    "for C in Cval:\n",
    "        SVM = SVC(C = C, kernel = 'rbf', gamma=\"auto\")\n",
    "        SVM.fit(train_images, train_labels)\n",
    "        scores = SVM.decision_function(test_images)[:,2]\n",
    "        fpr, tpr, _ = metrics.roc_curve(test_labels == 2, scores)\n",
    "        plt.plot(fpr, tpr, label='C = {}'.format(C))\n",
    "        \n",
    "        \n",
    "plt.title('ROC Curve for Predicting Positive')\n",
    "plt.xlabel('False Positive Rate')\n",
    "plt.ylabel('True Positive Rate')\n",
    "plt.legend()\n",
    "plt.show()"
   ]
  },
  {
   "cell_type": "markdown",
   "id": "a1d3c47a",
   "metadata": {},
   "source": [
    "## Confusion matrix for SVM"
   ]
  },
  {
   "cell_type": "code",
   "execution_count": 23,
   "id": "6268baa6",
   "metadata": {},
   "outputs": [
    {
     "data": {
      "image/png": "[encoded data removed]",
      "text/plain": [
       "<Figure size 648x432 with 2 Axes>"
      ]
     },
     "metadata": {
      "needs_background": "light"
     },
     "output_type": "display_data"
    },
    {
     "data": {
      "text/plain": [
       "<Figure size 432x288 with 0 Axes>"
      ]
     },
     "metadata": {},
     "output_type": "display_data"
    }
   ],
   "source": [
    "#Confusion Matrix on SVM\n",
    "import matplotlib.pyplot as plt\n",
    "import seaborn as sns\n",
    "from sklearn.metrics import confusion_matrix\n",
    "\n",
    "# Calculate the confusion matrix\n",
    "cm = confusion_matrix(test_labels, y_pred_svc)\n",
    "\n",
    "# Create a figure and axis\n",
    "fig, ax = plt.subplots(figsize=(9, 6))\n",
    "\n",
    "# Plot the confusion matrix using a heatmap\n",
    "sns.heatmap(cm, annot=True, fmt='d', cmap='Blues', ax=ax)\n",
    "\n",
    "# Set labels, title, and ticks\n",
    "ax.set_xlabel('Predicted')\n",
    "ax.set_ylabel('Actual')\n",
    "ax.set_title('Confusion Matrix on SVM')\n",
    "# Display the plot\n",
    "plt.show()\n",
    "plt.savefig('Confusion-svm.png', bbox_inches='tight')"
   ]
  },
  {
   "cell_type": "code",
   "execution_count": null,
   "id": "6480e1cb",
   "metadata": {},
   "outputs": [],
   "source": [
    "# Print accuracy on test data and labels\n",
    "accuracy = SVM.score(Xtst_nm, Ytst)\n",
    "\n",
    "# Print Confusion Matrix\n",
    "conf_matrix =  confusion_matrix(Ytst, Y_pred)\n",
    "\n",
    "print(f\"SVM Model's accuracy: {accuracy}\") \n",
    "PlotConfusionMatrix(conf_matrix, list(range(0,10)), normalize=True)"
   ]
  },
  {
   "cell_type": "markdown",
   "id": "37ea653f",
   "metadata": {},
   "source": [
    "## Reference\n",
    "- https://towardsdatascience.com/demystifying-support-vector-machines-8453b39f7368#:~:text=and%20so%20on.-,Geometric%20Intuition,the%20negative%20plane%20is%20maximum.\n",
    "- https://scikit-learn.org/stable/modules/svm.html\n",
    "- Credit to HW2"
   ]
  }
 ],
 "metadata": {
  "kernelspec": {
   "display_name": "Python 3",
   "language": "python",
   "name": "python3"
  },
  "language_info": {
   "codemirror_mode": {
    "name": "ipython",
    "version": 3
   },
   "file_extension": ".py",
   "mimetype": "text/x-python",
   "name": "python",
   "nbconvert_exporter": "python",
   "pygments_lexer": "ipython3",
   "version": "3.8.8"
  }
 },
 "nbformat": 4,
 "nbformat_minor": 5
}
